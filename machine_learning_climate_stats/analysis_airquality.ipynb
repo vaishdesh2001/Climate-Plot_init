{
 "cells": [
  {
   "cell_type": "code",
   "execution_count": 1,
   "metadata": {},
   "outputs": [],
   "source": [
    "import os\n",
    "import requests\n",
    "from bs4 import BeautifulSoup\n",
    "import pandas as pd\n",
    "import matplotlib.pyplot as plt\n",
    "from matplotlib.pyplot import figure\n",
    "import math\n",
    "import numpy as np\n",
    "import json"
   ]
  },
  {
   "cell_type": "code",
   "execution_count": 2,
   "metadata": {},
   "outputs": [],
   "source": [
    "from sklearn.decomposition import PCA\n",
    "from sklearn.preprocessing import StandardScaler"
   ]
  },
  {
   "cell_type": "code",
   "execution_count": 24,
   "metadata": {},
   "outputs": [],
   "source": [
    "df_US = pd.read_csv('US.csv')"
   ]
  },
  {
   "cell_type": "code",
   "execution_count": 25,
   "metadata": {},
   "outputs": [],
   "source": [
    "df_US = df_US.drop('Unnamed: 0', axis=1)"
   ]
  },
  {
   "cell_type": "code",
   "execution_count": 26,
   "metadata": {},
   "outputs": [],
   "source": [
    "df_India = pd.read_csv('India.csv')"
   ]
  },
  {
   "cell_type": "code",
   "execution_count": 27,
   "metadata": {},
   "outputs": [],
   "source": [
    "df_India = df_India.drop('Unnamed: 0', axis=1)"
   ]
  },
  {
   "cell_type": "code",
   "execution_count": 28,
   "metadata": {},
   "outputs": [
    {
     "data": {
      "text/html": [
       "<div>\n",
       "<style scoped>\n",
       "    .dataframe tbody tr th:only-of-type {\n",
       "        vertical-align: middle;\n",
       "    }\n",
       "\n",
       "    .dataframe tbody tr th {\n",
       "        vertical-align: top;\n",
       "    }\n",
       "\n",
       "    .dataframe thead th {\n",
       "        text-align: right;\n",
       "    }\n",
       "</style>\n",
       "<table border=\"1\" class=\"dataframe\">\n",
       "  <thead>\n",
       "    <tr style=\"text-align: right;\">\n",
       "      <th></th>\n",
       "      <th>City</th>\n",
       "      <th>AQI</th>\n",
       "      <th>City Index</th>\n",
       "      <th>Latitude</th>\n",
       "      <th>Longitude</th>\n",
       "      <th>URL</th>\n",
       "      <th>Dominant</th>\n",
       "      <th>Dew</th>\n",
       "      <th>Humidity</th>\n",
       "      <th>Pressure</th>\n",
       "      <th>PM25</th>\n",
       "      <th>Temperature</th>\n",
       "      <th>Wind</th>\n",
       "      <th>Ozone</th>\n",
       "      <th>PM10</th>\n",
       "      <th>UV</th>\n",
       "    </tr>\n",
       "  </thead>\n",
       "  <tbody>\n",
       "    <tr>\n",
       "      <th>0</th>\n",
       "      <td>Mumbai</td>\n",
       "      <td>164</td>\n",
       "      <td>7020</td>\n",
       "      <td>19.072830</td>\n",
       "      <td>72.88261</td>\n",
       "      <td>https://aqicn.org/city/india/mumbai/us-consulate</td>\n",
       "      <td>pm25</td>\n",
       "      <td>22.0</td>\n",
       "      <td>78.0</td>\n",
       "      <td>1011.0</td>\n",
       "      <td>53</td>\n",
       "      <td>26.0</td>\n",
       "      <td>2.3</td>\n",
       "      <td>7.0</td>\n",
       "      <td>53</td>\n",
       "      <td>1</td>\n",
       "    </tr>\n",
       "    <tr>\n",
       "      <th>1</th>\n",
       "      <td>Delhi</td>\n",
       "      <td>183</td>\n",
       "      <td>7024</td>\n",
       "      <td>28.635760</td>\n",
       "      <td>77.22445</td>\n",
       "      <td>https://aqicn.org/city/india/new-delhi/us-embassy</td>\n",
       "      <td>pm25</td>\n",
       "      <td>13.0</td>\n",
       "      <td>87.0</td>\n",
       "      <td>1015.0</td>\n",
       "      <td>57</td>\n",
       "      <td>15.0</td>\n",
       "      <td>0.7</td>\n",
       "      <td>8.0</td>\n",
       "      <td>57</td>\n",
       "      <td>0</td>\n",
       "    </tr>\n",
       "    <tr>\n",
       "      <th>2</th>\n",
       "      <td>Bangalore</td>\n",
       "      <td>132</td>\n",
       "      <td>11270</td>\n",
       "      <td>12.938539</td>\n",
       "      <td>77.59010</td>\n",
       "      <td>https://aqicn.org/city/india/bengaluru/hombego...</td>\n",
       "      <td>pm25</td>\n",
       "      <td>17.0</td>\n",
       "      <td>94.0</td>\n",
       "      <td>709.0</td>\n",
       "      <td>27</td>\n",
       "      <td>24.2</td>\n",
       "      <td>1.1</td>\n",
       "      <td>31.0</td>\n",
       "      <td>27</td>\n",
       "      <td>0</td>\n",
       "    </tr>\n",
       "  </tbody>\n",
       "</table>\n",
       "</div>"
      ],
      "text/plain": [
       "        City  AQI  City Index   Latitude  Longitude  \\\n",
       "0     Mumbai  164        7020  19.072830   72.88261   \n",
       "1      Delhi  183        7024  28.635760   77.22445   \n",
       "2  Bangalore  132       11270  12.938539   77.59010   \n",
       "\n",
       "                                                 URL Dominant   Dew  Humidity  \\\n",
       "0   https://aqicn.org/city/india/mumbai/us-consulate     pm25  22.0      78.0   \n",
       "1  https://aqicn.org/city/india/new-delhi/us-embassy     pm25  13.0      87.0   \n",
       "2  https://aqicn.org/city/india/bengaluru/hombego...     pm25  17.0      94.0   \n",
       "\n",
       "   Pressure  PM25  Temperature  Wind  Ozone  PM10  UV  \n",
       "0    1011.0    53         26.0   2.3    7.0    53   1  \n",
       "1    1015.0    57         15.0   0.7    8.0    57   0  \n",
       "2     709.0    27         24.2   1.1   31.0    27   0  "
      ]
     },
     "execution_count": 28,
     "metadata": {},
     "output_type": "execute_result"
    }
   ],
   "source": [
    "df_India.head(3)"
   ]
  },
  {
   "cell_type": "code",
   "execution_count": 29,
   "metadata": {},
   "outputs": [
    {
     "data": {
      "text/html": [
       "<div>\n",
       "<style scoped>\n",
       "    .dataframe tbody tr th:only-of-type {\n",
       "        vertical-align: middle;\n",
       "    }\n",
       "\n",
       "    .dataframe tbody tr th {\n",
       "        vertical-align: top;\n",
       "    }\n",
       "\n",
       "    .dataframe thead th {\n",
       "        text-align: right;\n",
       "    }\n",
       "</style>\n",
       "<table border=\"1\" class=\"dataframe\">\n",
       "  <thead>\n",
       "    <tr style=\"text-align: right;\">\n",
       "      <th></th>\n",
       "      <th>City</th>\n",
       "      <th>AQI</th>\n",
       "      <th>City Index</th>\n",
       "      <th>Latitude</th>\n",
       "      <th>Longitude</th>\n",
       "      <th>URL</th>\n",
       "      <th>Dominant</th>\n",
       "      <th>Dew</th>\n",
       "      <th>Humidity</th>\n",
       "      <th>Pressure</th>\n",
       "      <th>PM25</th>\n",
       "      <th>Temperature</th>\n",
       "      <th>Wind</th>\n",
       "      <th>Ozone</th>\n",
       "      <th>PM10</th>\n",
       "      <th>UV</th>\n",
       "    </tr>\n",
       "  </thead>\n",
       "  <tbody>\n",
       "    <tr>\n",
       "      <th>0</th>\n",
       "      <td>New York City</td>\n",
       "      <td>33</td>\n",
       "      <td>3309</td>\n",
       "      <td>40.712784</td>\n",
       "      <td>-74.005941</td>\n",
       "      <td>https://aqicn.org/city/newyork</td>\n",
       "      <td>pm25</td>\n",
       "      <td>0</td>\n",
       "      <td>63.0</td>\n",
       "      <td>1021.4</td>\n",
       "      <td>9</td>\n",
       "      <td>7.7</td>\n",
       "      <td>5.6</td>\n",
       "      <td>17</td>\n",
       "      <td>9</td>\n",
       "      <td>0</td>\n",
       "    </tr>\n",
       "    <tr>\n",
       "      <th>1</th>\n",
       "      <td>Los Angeles</td>\n",
       "      <td>53</td>\n",
       "      <td>243</td>\n",
       "      <td>34.066530</td>\n",
       "      <td>-118.226760</td>\n",
       "      <td>https://aqicn.org/city/losangeles/los-angeles-...</td>\n",
       "      <td>pm10</td>\n",
       "      <td>0</td>\n",
       "      <td>53.0</td>\n",
       "      <td>1015.5</td>\n",
       "      <td>42</td>\n",
       "      <td>17.7</td>\n",
       "      <td>1.0</td>\n",
       "      <td>14</td>\n",
       "      <td>42</td>\n",
       "      <td>1</td>\n",
       "    </tr>\n",
       "    <tr>\n",
       "      <th>2</th>\n",
       "      <td>Chicago</td>\n",
       "      <td>48</td>\n",
       "      <td>7397</td>\n",
       "      <td>41.913600</td>\n",
       "      <td>-87.723900</td>\n",
       "      <td>https://aqicn.org/city/usa/illinois/chi_sp</td>\n",
       "      <td>pm25</td>\n",
       "      <td>0</td>\n",
       "      <td>52.0</td>\n",
       "      <td>1011.8</td>\n",
       "      <td>20</td>\n",
       "      <td>13.3</td>\n",
       "      <td>2.5</td>\n",
       "      <td>14</td>\n",
       "      <td>20</td>\n",
       "      <td>0</td>\n",
       "    </tr>\n",
       "  </tbody>\n",
       "</table>\n",
       "</div>"
      ],
      "text/plain": [
       "            City  AQI  City Index   Latitude   Longitude  \\\n",
       "0  New York City   33        3309  40.712784  -74.005941   \n",
       "1    Los Angeles   53         243  34.066530 -118.226760   \n",
       "2        Chicago   48        7397  41.913600  -87.723900   \n",
       "\n",
       "                                                 URL Dominant  Dew  Humidity  \\\n",
       "0                     https://aqicn.org/city/newyork     pm25    0      63.0   \n",
       "1  https://aqicn.org/city/losangeles/los-angeles-...     pm10    0      53.0   \n",
       "2         https://aqicn.org/city/usa/illinois/chi_sp     pm25    0      52.0   \n",
       "\n",
       "   Pressure  PM25  Temperature  Wind  Ozone  PM10  UV  \n",
       "0    1021.4     9          7.7   5.6     17     9   0  \n",
       "1    1015.5    42         17.7   1.0     14    42   1  \n",
       "2    1011.8    20         13.3   2.5     14    20   0  "
      ]
     },
     "execution_count": 29,
     "metadata": {},
     "output_type": "execute_result"
    }
   ],
   "source": [
    "df_US.head(3)"
   ]
  },
  {
   "cell_type": "code",
   "execution_count": 30,
   "metadata": {},
   "outputs": [
    {
     "data": {
      "text/plain": [
       "<AxesSubplot:xlabel='Longitude', ylabel='AQI'>"
      ]
     },
     "execution_count": 30,
     "metadata": {},
     "output_type": "execute_result"
    },
    {
     "data": {
      "image/png": "[encoded data removed]",
      "text/plain": [
       "<Figure size 432x288 with 1 Axes>"
      ]
     },
     "metadata": {
      "needs_background": "light"
     },
     "output_type": "display_data"
    }
   ],
   "source": [
    "ax = df_India.plot.scatter(x='Longitude', y='AQI')\n",
    "df_US.plot.scatter(x='Longitude', y='AQI', ax=ax)"
   ]
  },
  {
   "cell_type": "code",
   "execution_count": 31,
   "metadata": {},
   "outputs": [
    {
     "data": {
      "text/plain": [
       "<AxesSubplot:xlabel='Longitude', ylabel='AQI'>"
      ]
     },
     "execution_count": 31,
     "metadata": {},
     "output_type": "execute_result"
    },
    {
     "data": {
      "image/png": "[encoded data removed]",
      "text/plain": [
       "<Figure size 432x288 with 1 Axes>"
      ]
     },
     "metadata": {
      "needs_background": "light"
     },
     "output_type": "display_data"
    }
   ],
   "source": [
    "df_US.plot.scatter(x='Longitude', y='AQI')"
   ]
  },
  {
   "cell_type": "code",
   "execution_count": 37,
   "metadata": {},
   "outputs": [],
   "source": [
    "df_sub_India = df_India[['AQI', 'PM25', 'PM10', 'Ozone']]\n",
    "df_sub_India.index = df_India['City']"
   ]
  },
  {
   "cell_type": "code",
   "execution_count": 40,
   "metadata": {},
   "outputs": [
    {
     "data": {
      "text/plain": [
       "<AxesSubplot:xlabel='City'>"
      ]
     },
     "execution_count": 40,
     "metadata": {},
     "output_type": "execute_result"
    },
    {
     "data": {
      "image/png": "[encoded data removed]",
      "text/plain": [
       "<Figure size 1440x720 with 1 Axes>"
      ]
     },
     "metadata": {
      "needs_background": "light"
     },
     "output_type": "display_data"
    }
   ],
   "source": [
    "df_sub_India.head(10).plot(kind='bar', figsize=(20, 10))"
   ]
  },
  {
   "cell_type": "code",
   "execution_count": 42,
   "metadata": {},
   "outputs": [
    {
     "data": {
      "text/plain": [
       "<AxesSubplot:xlabel='City'>"
      ]
     },
     "execution_count": 42,
     "metadata": {},
     "output_type": "execute_result"
    },
    {
     "data": {
      "image/png": "[encoded data removed]",
      "text/plain": [
       "<Figure size 1440x720 with 1 Axes>"
      ]
     },
     "metadata": {
      "needs_background": "light"
     },
     "output_type": "display_data"
    }
   ],
   "source": [
    "df_sub_US = df_US[['AQI', 'PM25', 'PM10', 'Ozone']]\n",
    "df_sub_US.index = df_US['City']\n",
    "df_sub_US.head(10).plot(kind='bar', figsize=(20, 10))"
   ]
  },
  {
   "cell_type": "code",
   "execution_count": null,
   "metadata": {},
   "outputs": [],
   "source": [
    "#https://worldpopulationreview.com/world-cities\n",
    "#so2 n02- other air pollutants"
   ]
  }
 ],
 "metadata": {
  "kernelspec": {
   "display_name": "Python 3",
   "language": "python",
   "name": "python3"
  },
  "language_info": {
   "codemirror_mode": {
    "name": "ipython",
    "version": 3
   },
   "file_extension": ".py",
   "mimetype": "text/x-python",
   "name": "python",
   "nbconvert_exporter": "python",
   "pygments_lexer": "ipython3",
   "version": "3.6.9"
  }
 },
 "nbformat": 4,
 "nbformat_minor": 4
}
