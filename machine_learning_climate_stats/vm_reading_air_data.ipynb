{
 "cells": [
  {
   "cell_type": "code",
   "execution_count": 1,
   "metadata": {},
   "outputs": [],
   "source": [
    "import os\n",
    "import requests\n",
    "from bs4 import BeautifulSoup\n",
    "import pandas as pd\n",
    "import matplotlib.pyplot as plt\n",
    "from matplotlib.pyplot import figure\n",
    "import math\n",
    "import numpy as np"
   ]
  },
  {
   "cell_type": "code",
   "execution_count": 2,
   "metadata": {},
   "outputs": [],
   "source": [
    "from sklearn.decomposition import PCA\n",
    "from sklearn.preprocessing import StandardScaler"
   ]
  },
  {
   "cell_type": "code",
   "execution_count": 3,
   "metadata": {},
   "outputs": [],
   "source": [
    "# download html with the given filename given the url\n",
    "def download(filename, url):\n",
    "    # doesn't download if the file is already downloaded\n",
    "    if os.path.exists(os.path.join(filename)):\n",
    "        return\n",
    "\n",
    "    # initializing the response object through the requests module\n",
    "    resp = requests.get(url)\n",
    "    # checks if the specific url exists and if the request went through correctly\n",
    "    resp.raise_for_status()\n",
    "\n",
    "    if \".html\" in filename:\n",
    "        doc = BeautifulSoup(resp.text, \"html.parser\")\n",
    "        f = open(os.path.join(filename), \"w\", encoding=\"utf-8\")\n",
    "        f.write(str(doc))\n",
    "        f.close()\n"
   ]
  },
  {
   "cell_type": "code",
   "execution_count": 4,
   "metadata": {},
   "outputs": [],
   "source": [
    "download(\"bangalore.html\", 'https://aqicn.org/city/bangalore/')"
   ]
  },
  {
   "cell_type": "code",
   "execution_count": 5,
   "metadata": {},
   "outputs": [],
   "source": [
    "def get_dict(html_name):\n",
    "    f = open(html_name, 'r', encoding='utf-8')\n",
    "    html_text = f.read()\n",
    "    f.close()\n",
    "    style_text = \"font-size:11px;;border:0px solid black; padding:0px; margin:0px;border-spacing: 0px;\"\n",
    "    doc = BeautifulSoup(html_text, \"html.parser\")\n",
    "    tables = doc.find_all(\"table\", attrs={'style':style_text})\n",
    "    len(tables)\n",
    "    comp_table = tables[0]\n",
    "    trs = comp_table.find_all('tr')\n",
    "    trs = trs[1:]\n",
    "    # max values for now\n",
    "    dict_cols = {}\n",
    "    for tr in trs:\n",
    "        try:\n",
    "            dict_cols[tr['id']] = int(tr.find_all('td')[4].get_text())\n",
    "        except KeyError:\n",
    "            continue\n",
    "    return dict_cols"
   ]
  },
  {
   "cell_type": "code",
   "execution_count": 6,
   "metadata": {},
   "outputs": [
    {
     "data": {
      "text/plain": [
       "{'tr_pm25': 102,\n",
       " 'tr_pm10': 54,\n",
       " 'tr_o3': 4,\n",
       " 'tr_no2': 6,\n",
       " 'tr_so2': 3,\n",
       " 'tr_co': 13,\n",
       " 'tr_t': 33,\n",
       " 'tr_h': 93,\n",
       " 'tr_w': 2}"
      ]
     },
     "execution_count": 6,
     "metadata": {},
     "output_type": "execute_result"
    }
   ],
   "source": [
    "dict_df_bangalore = get_dict('bangalore.html')\n",
    "dict_df_bangalore"
   ]
  },
  {
   "cell_type": "code",
   "execution_count": 7,
   "metadata": {},
   "outputs": [],
   "source": [
    "cities = ['delhi', 'chennai', 'mumbai', 'kolkata', 'hyderabad', 'pune', 'ahmedabad']\n",
    "dict_df = {}\n",
    "dict_df['bangalore'] = dict_df_bangalore\n",
    "for city in cities:\n",
    "    download(city + '.html', \"https://aqicn.org/city/\" + city)\n",
    "    dict_df[city] = get_dict(city + '.html')"
   ]
  },
  {
   "cell_type": "code",
   "execution_count": 8,
   "metadata": {},
   "outputs": [
    {
     "data": {
      "text/html": [
       "<div>\n",
       "<style scoped>\n",
       "    .dataframe tbody tr th:only-of-type {\n",
       "        vertical-align: middle;\n",
       "    }\n",
       "\n",
       "    .dataframe tbody tr th {\n",
       "        vertical-align: top;\n",
       "    }\n",
       "\n",
       "    .dataframe thead th {\n",
       "        text-align: right;\n",
       "    }\n",
       "</style>\n",
       "<table border=\"1\" class=\"dataframe\">\n",
       "  <thead>\n",
       "    <tr style=\"text-align: right;\">\n",
       "      <th></th>\n",
       "      <th>tr_pm25</th>\n",
       "      <th>tr_pm10</th>\n",
       "      <th>tr_o3</th>\n",
       "      <th>tr_no2</th>\n",
       "      <th>tr_so2</th>\n",
       "      <th>tr_co</th>\n",
       "      <th>tr_t</th>\n",
       "      <th>tr_h</th>\n",
       "      <th>tr_w</th>\n",
       "      <th>tr_p</th>\n",
       "    </tr>\n",
       "  </thead>\n",
       "  <tbody>\n",
       "    <tr>\n",
       "      <th>bangalore</th>\n",
       "      <td>102.0</td>\n",
       "      <td>54.0</td>\n",
       "      <td>4.0</td>\n",
       "      <td>6.0</td>\n",
       "      <td>3.0</td>\n",
       "      <td>13.0</td>\n",
       "      <td>33.0</td>\n",
       "      <td>93.0</td>\n",
       "      <td>2.0</td>\n",
       "      <td>NaN</td>\n",
       "    </tr>\n",
       "    <tr>\n",
       "      <th>delhi</th>\n",
       "      <td>587.0</td>\n",
       "      <td>826.0</td>\n",
       "      <td>41.0</td>\n",
       "      <td>55.0</td>\n",
       "      <td>6.0</td>\n",
       "      <td>40.0</td>\n",
       "      <td>33.0</td>\n",
       "      <td>83.0</td>\n",
       "      <td>2.0</td>\n",
       "      <td>994.0</td>\n",
       "    </tr>\n",
       "    <tr>\n",
       "      <th>chennai</th>\n",
       "      <td>166.0</td>\n",
       "      <td>116.0</td>\n",
       "      <td>6.0</td>\n",
       "      <td>43.0</td>\n",
       "      <td>4.0</td>\n",
       "      <td>3.0</td>\n",
       "      <td>31.0</td>\n",
       "      <td>92.0</td>\n",
       "      <td>1.0</td>\n",
       "      <td>787.0</td>\n",
       "    </tr>\n",
       "    <tr>\n",
       "      <th>mumbai</th>\n",
       "      <td>334.0</td>\n",
       "      <td>237.0</td>\n",
       "      <td>57.0</td>\n",
       "      <td>60.0</td>\n",
       "      <td>NaN</td>\n",
       "      <td>51.0</td>\n",
       "      <td>30.0</td>\n",
       "      <td>96.0</td>\n",
       "      <td>2.0</td>\n",
       "      <td>953.0</td>\n",
       "    </tr>\n",
       "    <tr>\n",
       "      <th>kolkata</th>\n",
       "      <td>999.0</td>\n",
       "      <td>155.0</td>\n",
       "      <td>82.0</td>\n",
       "      <td>47.0</td>\n",
       "      <td>26.0</td>\n",
       "      <td>19.0</td>\n",
       "      <td>29.0</td>\n",
       "      <td>99.0</td>\n",
       "      <td>0.0</td>\n",
       "      <td>1015.0</td>\n",
       "    </tr>\n",
       "    <tr>\n",
       "      <th>hyderabad</th>\n",
       "      <td>184.0</td>\n",
       "      <td>125.0</td>\n",
       "      <td>8.0</td>\n",
       "      <td>72.0</td>\n",
       "      <td>9.0</td>\n",
       "      <td>29.0</td>\n",
       "      <td>25.0</td>\n",
       "      <td>53.0</td>\n",
       "      <td>1.0</td>\n",
       "      <td>1019.0</td>\n",
       "    </tr>\n",
       "    <tr>\n",
       "      <th>pune</th>\n",
       "      <td>334.0</td>\n",
       "      <td>237.0</td>\n",
       "      <td>57.0</td>\n",
       "      <td>60.0</td>\n",
       "      <td>NaN</td>\n",
       "      <td>51.0</td>\n",
       "      <td>30.0</td>\n",
       "      <td>96.0</td>\n",
       "      <td>2.0</td>\n",
       "      <td>953.0</td>\n",
       "    </tr>\n",
       "    <tr>\n",
       "      <th>ahmedabad</th>\n",
       "      <td>323.0</td>\n",
       "      <td>726.0</td>\n",
       "      <td>22.0</td>\n",
       "      <td>63.0</td>\n",
       "      <td>29.0</td>\n",
       "      <td>38.0</td>\n",
       "      <td>34.0</td>\n",
       "      <td>88.0</td>\n",
       "      <td>1.0</td>\n",
       "      <td>1015.0</td>\n",
       "    </tr>\n",
       "  </tbody>\n",
       "</table>\n",
       "</div>"
      ],
      "text/plain": [
       "           tr_pm25  tr_pm10  tr_o3  tr_no2  tr_so2  tr_co  tr_t  tr_h  tr_w  \\\n",
       "bangalore    102.0     54.0    4.0     6.0     3.0   13.0  33.0  93.0   2.0   \n",
       "delhi        587.0    826.0   41.0    55.0     6.0   40.0  33.0  83.0   2.0   \n",
       "chennai      166.0    116.0    6.0    43.0     4.0    3.0  31.0  92.0   1.0   \n",
       "mumbai       334.0    237.0   57.0    60.0     NaN   51.0  30.0  96.0   2.0   \n",
       "kolkata      999.0    155.0   82.0    47.0    26.0   19.0  29.0  99.0   0.0   \n",
       "hyderabad    184.0    125.0    8.0    72.0     9.0   29.0  25.0  53.0   1.0   \n",
       "pune         334.0    237.0   57.0    60.0     NaN   51.0  30.0  96.0   2.0   \n",
       "ahmedabad    323.0    726.0   22.0    63.0    29.0   38.0  34.0  88.0   1.0   \n",
       "\n",
       "             tr_p  \n",
       "bangalore     NaN  \n",
       "delhi       994.0  \n",
       "chennai     787.0  \n",
       "mumbai      953.0  \n",
       "kolkata    1015.0  \n",
       "hyderabad  1019.0  \n",
       "pune        953.0  \n",
       "ahmedabad  1015.0  "
      ]
     },
     "execution_count": 8,
     "metadata": {},
     "output_type": "execute_result"
    }
   ],
   "source": [
    "df_cities = pd.DataFrame(dict_df)\n",
    "df_cities = df_cities.T\n",
    "\n",
    "df_cities.loc['chennai']['tr_t'] = 31.0\n",
    "df_cities"
   ]
  },
  {
   "cell_type": "code",
   "execution_count": 9,
   "metadata": {},
   "outputs": [],
   "source": [
    "df_pollutants = df_cities.drop(['tr_t', 'tr_h', 'tr_w', 'tr_p'], axis=1)"
   ]
  },
  {
   "cell_type": "code",
   "execution_count": 10,
   "metadata": {},
   "outputs": [
    {
     "data": {
      "text/plain": [
       "<AxesSubplot:>"
      ]
     },
     "execution_count": 10,
     "metadata": {},
     "output_type": "execute_result"
    },
    {
     "data": {
      "image/png": "[encoded data removed]",
      "text/plain": [
       "<Figure size 1440x720 with 1 Axes>"
      ]
     },
     "metadata": {
      "needs_background": "light"
     },
     "output_type": "display_data"
    }
   ],
   "source": [
    "df_pollutants.plot(kind='bar', figsize=(20, 10), stacked=True)"
   ]
  },
  {
   "cell_type": "code",
   "execution_count": 11,
   "metadata": {},
   "outputs": [
    {
     "data": {
      "text/html": [
       "<div>\n",
       "<style scoped>\n",
       "    .dataframe tbody tr th:only-of-type {\n",
       "        vertical-align: middle;\n",
       "    }\n",
       "\n",
       "    .dataframe tbody tr th {\n",
       "        vertical-align: top;\n",
       "    }\n",
       "\n",
       "    .dataframe thead th {\n",
       "        text-align: right;\n",
       "    }\n",
       "</style>\n",
       "<table border=\"1\" class=\"dataframe\">\n",
       "  <thead>\n",
       "    <tr style=\"text-align: right;\">\n",
       "      <th></th>\n",
       "      <th>tr_pm25</th>\n",
       "      <th>tr_pm10</th>\n",
       "      <th>tr_o3</th>\n",
       "      <th>tr_no2</th>\n",
       "      <th>tr_so2</th>\n",
       "      <th>tr_co</th>\n",
       "    </tr>\n",
       "  </thead>\n",
       "  <tbody>\n",
       "    <tr>\n",
       "      <th>bangalore</th>\n",
       "      <td>102.0</td>\n",
       "      <td>54.0</td>\n",
       "      <td>4.0</td>\n",
       "      <td>6.0</td>\n",
       "      <td>3.0</td>\n",
       "      <td>13.0</td>\n",
       "    </tr>\n",
       "    <tr>\n",
       "      <th>delhi</th>\n",
       "      <td>587.0</td>\n",
       "      <td>826.0</td>\n",
       "      <td>41.0</td>\n",
       "      <td>55.0</td>\n",
       "      <td>6.0</td>\n",
       "      <td>40.0</td>\n",
       "    </tr>\n",
       "    <tr>\n",
       "      <th>chennai</th>\n",
       "      <td>166.0</td>\n",
       "      <td>116.0</td>\n",
       "      <td>6.0</td>\n",
       "      <td>43.0</td>\n",
       "      <td>4.0</td>\n",
       "      <td>3.0</td>\n",
       "    </tr>\n",
       "    <tr>\n",
       "      <th>mumbai</th>\n",
       "      <td>334.0</td>\n",
       "      <td>237.0</td>\n",
       "      <td>57.0</td>\n",
       "      <td>60.0</td>\n",
       "      <td>0.0</td>\n",
       "      <td>51.0</td>\n",
       "    </tr>\n",
       "    <tr>\n",
       "      <th>kolkata</th>\n",
       "      <td>999.0</td>\n",
       "      <td>155.0</td>\n",
       "      <td>82.0</td>\n",
       "      <td>47.0</td>\n",
       "      <td>26.0</td>\n",
       "      <td>19.0</td>\n",
       "    </tr>\n",
       "    <tr>\n",
       "      <th>hyderabad</th>\n",
       "      <td>184.0</td>\n",
       "      <td>125.0</td>\n",
       "      <td>8.0</td>\n",
       "      <td>72.0</td>\n",
       "      <td>9.0</td>\n",
       "      <td>29.0</td>\n",
       "    </tr>\n",
       "    <tr>\n",
       "      <th>pune</th>\n",
       "      <td>334.0</td>\n",
       "      <td>237.0</td>\n",
       "      <td>57.0</td>\n",
       "      <td>60.0</td>\n",
       "      <td>0.0</td>\n",
       "      <td>51.0</td>\n",
       "    </tr>\n",
       "    <tr>\n",
       "      <th>ahmedabad</th>\n",
       "      <td>323.0</td>\n",
       "      <td>726.0</td>\n",
       "      <td>22.0</td>\n",
       "      <td>63.0</td>\n",
       "      <td>29.0</td>\n",
       "      <td>38.0</td>\n",
       "    </tr>\n",
       "  </tbody>\n",
       "</table>\n",
       "</div>"
      ],
      "text/plain": [
       "           tr_pm25  tr_pm10  tr_o3  tr_no2  tr_so2  tr_co\n",
       "bangalore    102.0     54.0    4.0     6.0     3.0   13.0\n",
       "delhi        587.0    826.0   41.0    55.0     6.0   40.0\n",
       "chennai      166.0    116.0    6.0    43.0     4.0    3.0\n",
       "mumbai       334.0    237.0   57.0    60.0     0.0   51.0\n",
       "kolkata      999.0    155.0   82.0    47.0    26.0   19.0\n",
       "hyderabad    184.0    125.0    8.0    72.0     9.0   29.0\n",
       "pune         334.0    237.0   57.0    60.0     0.0   51.0\n",
       "ahmedabad    323.0    726.0   22.0    63.0    29.0   38.0"
      ]
     },
     "execution_count": 11,
     "metadata": {},
     "output_type": "execute_result"
    }
   ],
   "source": [
    "df_pollutants = df_pollutants.replace([math.nan], 0.0)\n",
    "df_pollutants"
   ]
  },
  {
   "cell_type": "code",
   "execution_count": 12,
   "metadata": {},
   "outputs": [],
   "source": [
    "pca = PCA(n_components=0.9)\n",
    "transformed = pd.DataFrame(pca.fit_transform(df_pollutants))\n",
    "key_df = pd.DataFrame(pca.components_)"
   ]
  },
  {
   "cell_type": "code",
   "execution_count": 13,
   "metadata": {},
   "outputs": [],
   "source": [
    "val_pca = pca.fit_transform(df_pollutants)"
   ]
  },
  {
   "cell_type": "code",
   "execution_count": 14,
   "metadata": {},
   "outputs": [
    {
     "data": {
      "text/html": [
       "<div>\n",
       "<style scoped>\n",
       "    .dataframe tbody tr th:only-of-type {\n",
       "        vertical-align: middle;\n",
       "    }\n",
       "\n",
       "    .dataframe tbody tr th {\n",
       "        vertical-align: top;\n",
       "    }\n",
       "\n",
       "    .dataframe thead th {\n",
       "        text-align: right;\n",
       "    }\n",
       "</style>\n",
       "<table border=\"1\" class=\"dataframe\">\n",
       "  <thead>\n",
       "    <tr style=\"text-align: right;\">\n",
       "      <th></th>\n",
       "      <th>tr_pm25</th>\n",
       "      <th>tr_pm10</th>\n",
       "      <th>tr_o3</th>\n",
       "      <th>tr_no2</th>\n",
       "      <th>tr_so2</th>\n",
       "      <th>tr_co</th>\n",
       "    </tr>\n",
       "  </thead>\n",
       "  <tbody>\n",
       "    <tr>\n",
       "      <th>bangalore</th>\n",
       "      <td>100.977463</td>\n",
       "      <td>52.924221</td>\n",
       "      <td>13.606000</td>\n",
       "      <td>42.885173</td>\n",
       "      <td>2.235733</td>\n",
       "      <td>23.480712</td>\n",
       "    </tr>\n",
       "    <tr>\n",
       "      <th>delhi</th>\n",
       "      <td>586.215637</td>\n",
       "      <td>825.596786</td>\n",
       "      <td>46.940391</td>\n",
       "      <td>64.466165</td>\n",
       "      <td>17.962809</td>\n",
       "      <td>44.776012</td>\n",
       "    </tr>\n",
       "    <tr>\n",
       "      <th>chennai</th>\n",
       "      <td>164.939928</td>\n",
       "      <td>115.469515</td>\n",
       "      <td>18.412167</td>\n",
       "      <td>44.780076</td>\n",
       "      <td>3.967838</td>\n",
       "      <td>25.193462</td>\n",
       "    </tr>\n",
       "    <tr>\n",
       "      <th>mumbai</th>\n",
       "      <td>336.061335</td>\n",
       "      <td>237.561650</td>\n",
       "      <td>31.744644</td>\n",
       "      <td>48.756409</td>\n",
       "      <td>8.209363</td>\n",
       "      <td>28.516169</td>\n",
       "    </tr>\n",
       "    <tr>\n",
       "      <th>kolkata</th>\n",
       "      <td>998.482836</td>\n",
       "      <td>154.846265</td>\n",
       "      <td>89.178498</td>\n",
       "      <td>50.729126</td>\n",
       "      <td>19.810874</td>\n",
       "      <td>25.917135</td>\n",
       "    </tr>\n",
       "    <tr>\n",
       "      <th>hyderabad</th>\n",
       "      <td>183.231855</td>\n",
       "      <td>125.911463</td>\n",
       "      <td>19.864692</td>\n",
       "      <td>45.142076</td>\n",
       "      <td>4.398600</td>\n",
       "      <td>25.476002</td>\n",
       "    </tr>\n",
       "    <tr>\n",
       "      <th>pune</th>\n",
       "      <td>336.061335</td>\n",
       "      <td>237.561650</td>\n",
       "      <td>31.744644</td>\n",
       "      <td>48.756409</td>\n",
       "      <td>8.209363</td>\n",
       "      <td>28.516169</td>\n",
       "    </tr>\n",
       "    <tr>\n",
       "      <th>ahmedabad</th>\n",
       "      <td>323.029611</td>\n",
       "      <td>726.128448</td>\n",
       "      <td>25.508965</td>\n",
       "      <td>60.484567</td>\n",
       "      <td>12.205420</td>\n",
       "      <td>42.124337</td>\n",
       "    </tr>\n",
       "  </tbody>\n",
       "</table>\n",
       "</div>"
      ],
      "text/plain": [
       "              tr_pm25     tr_pm10      tr_o3     tr_no2     tr_so2      tr_co\n",
       "bangalore  100.977463   52.924221  13.606000  42.885173   2.235733  23.480712\n",
       "delhi      586.215637  825.596786  46.940391  64.466165  17.962809  44.776012\n",
       "chennai    164.939928  115.469515  18.412167  44.780076   3.967838  25.193462\n",
       "mumbai     336.061335  237.561650  31.744644  48.756409   8.209363  28.516169\n",
       "kolkata    998.482836  154.846265  89.178498  50.729126  19.810874  25.917135\n",
       "hyderabad  183.231855  125.911463  19.864692  45.142076   4.398600  25.476002\n",
       "pune       336.061335  237.561650  31.744644  48.756409   8.209363  28.516169\n",
       "ahmedabad  323.029611  726.128448  25.508965  60.484567  12.205420  42.124337"
      ]
     },
     "execution_count": 14,
     "metadata": {},
     "output_type": "execute_result"
    }
   ],
   "source": [
    "pd.DataFrame(transformed.values @ key_df.values + pca.mean_, index=df_pollutants.index, columns=df_pollutants.columns)"
   ]
  },
  {
   "cell_type": "code",
   "execution_count": 15,
   "metadata": {},
   "outputs": [
    {
     "data": {
      "text/html": [
       "<div>\n",
       "<style scoped>\n",
       "    .dataframe tbody tr th:only-of-type {\n",
       "        vertical-align: middle;\n",
       "    }\n",
       "\n",
       "    .dataframe tbody tr th {\n",
       "        vertical-align: top;\n",
       "    }\n",
       "\n",
       "    .dataframe thead th {\n",
       "        text-align: right;\n",
       "    }\n",
       "</style>\n",
       "<table border=\"1\" class=\"dataframe\">\n",
       "  <thead>\n",
       "    <tr style=\"text-align: right;\">\n",
       "      <th></th>\n",
       "      <th>0</th>\n",
       "      <th>1</th>\n",
       "    </tr>\n",
       "  </thead>\n",
       "  <tbody>\n",
       "    <tr>\n",
       "      <th>tr_pm25</th>\n",
       "      <td>0.688702</td>\n",
       "      <td>0.719774</td>\n",
       "    </tr>\n",
       "    <tr>\n",
       "      <th>tr_pm10</th>\n",
       "      <td>0.722387</td>\n",
       "      <td>-0.690374</td>\n",
       "    </tr>\n",
       "    <tr>\n",
       "      <th>tr_o3</th>\n",
       "      <td>0.051236</td>\n",
       "      <td>0.068703</td>\n",
       "    </tr>\n",
       "    <tr>\n",
       "      <th>tr_no2</th>\n",
       "      <td>0.021586</td>\n",
       "      <td>-0.012368</td>\n",
       "    </tr>\n",
       "    <tr>\n",
       "      <th>tr_so2</th>\n",
       "      <td>0.019075</td>\n",
       "      <td>0.007397</td>\n",
       "    </tr>\n",
       "    <tr>\n",
       "      <th>tr_co</th>\n",
       "      <td>0.019804</td>\n",
       "      <td>-0.019543</td>\n",
       "    </tr>\n",
       "  </tbody>\n",
       "</table>\n",
       "</div>"
      ],
      "text/plain": [
       "                0         1\n",
       "tr_pm25  0.688702  0.719774\n",
       "tr_pm10  0.722387 -0.690374\n",
       "tr_o3    0.051236  0.068703\n",
       "tr_no2   0.021586 -0.012368\n",
       "tr_so2   0.019075  0.007397\n",
       "tr_co    0.019804 -0.019543"
      ]
     },
     "execution_count": 15,
     "metadata": {},
     "output_type": "execute_result"
    }
   ],
   "source": [
    "pd.DataFrame(pca.components_.T, index=df_pollutants.columns)"
   ]
  },
  {
   "cell_type": "code",
   "execution_count": 16,
   "metadata": {},
   "outputs": [
    {
     "data": {
      "text/html": [
       "<div>\n",
       "<style scoped>\n",
       "    .dataframe tbody tr th:only-of-type {\n",
       "        vertical-align: middle;\n",
       "    }\n",
       "\n",
       "    .dataframe tbody tr th {\n",
       "        vertical-align: top;\n",
       "    }\n",
       "\n",
       "    .dataframe thead th {\n",
       "        text-align: right;\n",
       "    }\n",
       "</style>\n",
       "<table border=\"1\" class=\"dataframe\">\n",
       "  <thead>\n",
       "    <tr style=\"text-align: right;\">\n",
       "      <th></th>\n",
       "      <th>0</th>\n",
       "      <th>1</th>\n",
       "    </tr>\n",
       "  </thead>\n",
       "  <tbody>\n",
       "    <tr>\n",
       "      <th>0</th>\n",
       "      <td>-378.089975</td>\n",
       "      <td>-23.974603</td>\n",
       "    </tr>\n",
       "    <tr>\n",
       "      <th>1</th>\n",
       "      <td>517.158389</td>\n",
       "      <td>-206.422119</td>\n",
       "    </tr>\n",
       "    <tr>\n",
       "      <th>2</th>\n",
       "      <td>-288.502904</td>\n",
       "      <td>-20.829604</td>\n",
       "    </tr>\n",
       "    <tr>\n",
       "      <th>3</th>\n",
       "      <td>-81.537890</td>\n",
       "      <td>18.883186</td>\n",
       "    </tr>\n",
       "    <tr>\n",
       "      <th>4</th>\n",
       "      <td>318.075573</td>\n",
       "      <td>556.839550</td>\n",
       "    </tr>\n",
       "    <tr>\n",
       "      <th>5</th>\n",
       "      <td>-268.266047</td>\n",
       "      <td>-14.779415</td>\n",
       "    </tr>\n",
       "    <tr>\n",
       "      <th>6</th>\n",
       "      <td>-81.537890</td>\n",
       "      <td>18.883186</td>\n",
       "    </tr>\n",
       "    <tr>\n",
       "      <th>7</th>\n",
       "      <td>262.700743</td>\n",
       "      <td>-328.600180</td>\n",
       "    </tr>\n",
       "  </tbody>\n",
       "</table>\n",
       "</div>"
      ],
      "text/plain": [
       "            0           1\n",
       "0 -378.089975  -23.974603\n",
       "1  517.158389 -206.422119\n",
       "2 -288.502904  -20.829604\n",
       "3  -81.537890   18.883186\n",
       "4  318.075573  556.839550\n",
       "5 -268.266047  -14.779415\n",
       "6  -81.537890   18.883186\n",
       "7  262.700743 -328.600180"
      ]
     },
     "execution_count": 16,
     "metadata": {},
     "output_type": "execute_result"
    }
   ],
   "source": [
    "transformed"
   ]
  },
  {
   "cell_type": "code",
   "execution_count": 17,
   "metadata": {},
   "outputs": [
    {
     "data": {
      "text/plain": [
       "<matplotlib.collections.PathCollection at 0x7fe80423b4e0>"
      ]
     },
     "execution_count": 17,
     "metadata": {},
     "output_type": "execute_result"
    },
    {
     "data": {
      "image/png": "[encoded data removed]",
      "text/plain": [
       "<Figure size 576x432 with 1 Axes>"
      ]
     },
     "metadata": {
      "needs_background": "light"
     },
     "output_type": "display_data"
    }
   ],
   "source": [
    "fig, ax = plt.subplots(figsize=(8, 6))\n",
    "ax.scatter(x=transformed[0], y=transformed[1])"
   ]
  },
  {
   "cell_type": "code",
   "execution_count": 18,
   "metadata": {},
   "outputs": [],
   "source": [
    "# create a PIIIIIIIIIIIIIIPPPPPPPPPPEEEEEEELIIIIIIINEEEE"
   ]
  },
  {
   "cell_type": "code",
   "execution_count": 19,
   "metadata": {},
   "outputs": [
    {
     "data": {
      "text/plain": [
       "[<matplotlib.lines.Line2D at 0x7fe804207cc0>]"
      ]
     },
     "execution_count": 19,
     "metadata": {},
     "output_type": "execute_result"
    },
    {
     "data": {
      "image/png": "[encoded data removed]",
      "text/plain": [
       "<Figure size 432x288 with 1 Axes>"
      ]
     },
     "metadata": {
      "needs_background": "light"
     },
     "output_type": "display_data"
    }
   ],
   "source": [
    "list_num_pc = np.arange(6) + 1\n",
    "pc_ev = []\n",
    "for num in list_num_pc:\n",
    "    pca = PCA(n_components=num)\n",
    "    transformed = pd.DataFrame(pca.fit_transform(df_pollutants))\n",
    "    pc_ev.append(sum(pca.explained_variance_ratio_))\n",
    "plt.plot(list_num_pc, pc_ev)\n",
    "list_num_pc = np.arange(6) + 1\n",
    "pc_ev = []\n",
    "for num in list_num_pc:\n",
    "    scaler = StandardScaler()\n",
    "    scaled = scaler.fit_transform(df_pollutants)\n",
    "    pca = PCA(n_components=num)\n",
    "    transformed = pd.DataFrame(pca.fit_transform(scaled))\n",
    "    pc_ev.append(sum(pca.explained_variance_ratio_))\n",
    "plt.plot(list_num_pc, pc_ev)"
   ]
  },
  {
   "cell_type": "code",
   "execution_count": 20,
   "metadata": {},
   "outputs": [
    {
     "data": {
      "text/html": [
       "<div>\n",
       "<style scoped>\n",
       "    .dataframe tbody tr th:only-of-type {\n",
       "        vertical-align: middle;\n",
       "    }\n",
       "\n",
       "    .dataframe tbody tr th {\n",
       "        vertical-align: top;\n",
       "    }\n",
       "\n",
       "    .dataframe thead th {\n",
       "        text-align: right;\n",
       "    }\n",
       "</style>\n",
       "<table border=\"1\" class=\"dataframe\">\n",
       "  <thead>\n",
       "    <tr style=\"text-align: right;\">\n",
       "      <th></th>\n",
       "      <th>tr_pm25</th>\n",
       "      <th>tr_pm10</th>\n",
       "      <th>tr_o3</th>\n",
       "      <th>tr_no2</th>\n",
       "      <th>tr_so2</th>\n",
       "      <th>tr_co</th>\n",
       "      <th>tr_t</th>\n",
       "      <th>tr_h</th>\n",
       "      <th>tr_w</th>\n",
       "      <th>tr_p</th>\n",
       "    </tr>\n",
       "  </thead>\n",
       "  <tbody>\n",
       "    <tr>\n",
       "      <th>bangalore</th>\n",
       "      <td>102.0</td>\n",
       "      <td>54.0</td>\n",
       "      <td>4.0</td>\n",
       "      <td>6.0</td>\n",
       "      <td>3.0</td>\n",
       "      <td>13.0</td>\n",
       "      <td>33.0</td>\n",
       "      <td>93.0</td>\n",
       "      <td>2.0</td>\n",
       "      <td>NaN</td>\n",
       "    </tr>\n",
       "    <tr>\n",
       "      <th>delhi</th>\n",
       "      <td>587.0</td>\n",
       "      <td>826.0</td>\n",
       "      <td>41.0</td>\n",
       "      <td>55.0</td>\n",
       "      <td>6.0</td>\n",
       "      <td>40.0</td>\n",
       "      <td>33.0</td>\n",
       "      <td>83.0</td>\n",
       "      <td>2.0</td>\n",
       "      <td>994.0</td>\n",
       "    </tr>\n",
       "    <tr>\n",
       "      <th>chennai</th>\n",
       "      <td>166.0</td>\n",
       "      <td>116.0</td>\n",
       "      <td>6.0</td>\n",
       "      <td>43.0</td>\n",
       "      <td>4.0</td>\n",
       "      <td>3.0</td>\n",
       "      <td>31.0</td>\n",
       "      <td>92.0</td>\n",
       "      <td>1.0</td>\n",
       "      <td>787.0</td>\n",
       "    </tr>\n",
       "    <tr>\n",
       "      <th>mumbai</th>\n",
       "      <td>334.0</td>\n",
       "      <td>237.0</td>\n",
       "      <td>57.0</td>\n",
       "      <td>60.0</td>\n",
       "      <td>NaN</td>\n",
       "      <td>51.0</td>\n",
       "      <td>30.0</td>\n",
       "      <td>96.0</td>\n",
       "      <td>2.0</td>\n",
       "      <td>953.0</td>\n",
       "    </tr>\n",
       "    <tr>\n",
       "      <th>kolkata</th>\n",
       "      <td>999.0</td>\n",
       "      <td>155.0</td>\n",
       "      <td>82.0</td>\n",
       "      <td>47.0</td>\n",
       "      <td>26.0</td>\n",
       "      <td>19.0</td>\n",
       "      <td>29.0</td>\n",
       "      <td>99.0</td>\n",
       "      <td>0.0</td>\n",
       "      <td>1015.0</td>\n",
       "    </tr>\n",
       "    <tr>\n",
       "      <th>hyderabad</th>\n",
       "      <td>184.0</td>\n",
       "      <td>125.0</td>\n",
       "      <td>8.0</td>\n",
       "      <td>72.0</td>\n",
       "      <td>9.0</td>\n",
       "      <td>29.0</td>\n",
       "      <td>25.0</td>\n",
       "      <td>53.0</td>\n",
       "      <td>1.0</td>\n",
       "      <td>1019.0</td>\n",
       "    </tr>\n",
       "    <tr>\n",
       "      <th>pune</th>\n",
       "      <td>334.0</td>\n",
       "      <td>237.0</td>\n",
       "      <td>57.0</td>\n",
       "      <td>60.0</td>\n",
       "      <td>NaN</td>\n",
       "      <td>51.0</td>\n",
       "      <td>30.0</td>\n",
       "      <td>96.0</td>\n",
       "      <td>2.0</td>\n",
       "      <td>953.0</td>\n",
       "    </tr>\n",
       "    <tr>\n",
       "      <th>ahmedabad</th>\n",
       "      <td>323.0</td>\n",
       "      <td>726.0</td>\n",
       "      <td>22.0</td>\n",
       "      <td>63.0</td>\n",
       "      <td>29.0</td>\n",
       "      <td>38.0</td>\n",
       "      <td>34.0</td>\n",
       "      <td>88.0</td>\n",
       "      <td>1.0</td>\n",
       "      <td>1015.0</td>\n",
       "    </tr>\n",
       "  </tbody>\n",
       "</table>\n",
       "</div>"
      ],
      "text/plain": [
       "           tr_pm25  tr_pm10  tr_o3  tr_no2  tr_so2  tr_co  tr_t  tr_h  tr_w  \\\n",
       "bangalore    102.0     54.0    4.0     6.0     3.0   13.0  33.0  93.0   2.0   \n",
       "delhi        587.0    826.0   41.0    55.0     6.0   40.0  33.0  83.0   2.0   \n",
       "chennai      166.0    116.0    6.0    43.0     4.0    3.0  31.0  92.0   1.0   \n",
       "mumbai       334.0    237.0   57.0    60.0     NaN   51.0  30.0  96.0   2.0   \n",
       "kolkata      999.0    155.0   82.0    47.0    26.0   19.0  29.0  99.0   0.0   \n",
       "hyderabad    184.0    125.0    8.0    72.0     9.0   29.0  25.0  53.0   1.0   \n",
       "pune         334.0    237.0   57.0    60.0     NaN   51.0  30.0  96.0   2.0   \n",
       "ahmedabad    323.0    726.0   22.0    63.0    29.0   38.0  34.0  88.0   1.0   \n",
       "\n",
       "             tr_p  \n",
       "bangalore     NaN  \n",
       "delhi       994.0  \n",
       "chennai     787.0  \n",
       "mumbai      953.0  \n",
       "kolkata    1015.0  \n",
       "hyderabad  1019.0  \n",
       "pune        953.0  \n",
       "ahmedabad  1015.0  "
      ]
     },
     "execution_count": 20,
     "metadata": {},
     "output_type": "execute_result"
    }
   ],
   "source": [
    "df_cities"
   ]
  },
  {
   "cell_type": "code",
   "execution_count": 30,
   "metadata": {},
   "outputs": [
    {
     "data": {
      "text/plain": [
       "[<matplotlib.lines.Line2D at 0x7fe806b49c50>]"
      ]
     },
     "execution_count": 30,
     "metadata": {},
     "output_type": "execute_result"
    },
    {
     "data": {
      "image/png": "[encoded data removed]",
      "text/plain": [
       "<Figure size 432x288 with 1 Axes>"
      ]
     },
     "metadata": {
      "needs_background": "light"
     },
     "output_type": "display_data"
    }
   ],
   "source": [
    "ozone = df_cities['tr_o3'].tolist()\n",
    "temp = df_cities['tr_t'].tolist()\n",
    "plt.plot(ozone, temp, 'o')"
   ]
  },
  {
   "cell_type": "code",
   "execution_count": 37,
   "metadata": {},
   "outputs": [
    {
     "data": {
      "text/plain": [
       "[<matplotlib.lines.Line2D at 0x7fe806ca7cc0>]"
      ]
     },
     "execution_count": 37,
     "metadata": {},
     "output_type": "execute_result"
    },
    {
     "data": {
      "image/png": "[encoded data removed]",
      "text/plain": [
       "<Figure size 432x288 with 1 Axes>"
      ]
     },
     "metadata": {
      "needs_background": "light"
     },
     "output_type": "display_data"
    }
   ],
   "source": [
    "humidity = df_cities['tr_h'].tolist()\n",
    "pressure = df_cities['tr_p'].tolist()\n",
    "plt.plot(humidity, pressure, 'o')"
   ]
  },
  {
   "cell_type": "code",
   "execution_count": 39,
   "metadata": {},
   "outputs": [
    {
     "data": {
      "text/plain": [
       "[<matplotlib.lines.Line2D at 0x7fe806860d30>]"
      ]
     },
     "execution_count": 39,
     "metadata": {},
     "output_type": "execute_result"
    },
    {
     "data": {
      "image/png": "[encoded data removed]",
      "text/plain": [
       "<Figure size 432x288 with 1 Axes>"
      ]
     },
     "metadata": {
      "needs_background": "light"
     },
     "output_type": "display_data"
    }
   ],
   "source": [
    "co = df_cities['tr_co'].tolist()\n",
    "temperature = df_cities['tr_t'].tolist()\n",
    "plt.plot(co, temperature, 'o')"
   ]
  },
  {
   "cell_type": "code",
   "execution_count": null,
   "metadata": {},
   "outputs": [],
   "source": []
  }
 ],
 "metadata": {
  "kernelspec": {
   "display_name": "Python 3",
   "language": "python",
   "name": "python3"
  },
  "language_info": {
   "codemirror_mode": {
    "name": "ipython",
    "version": 3
   },
   "file_extension": ".py",
   "mimetype": "text/x-python",
   "name": "python",
   "nbconvert_exporter": "python",
   "pygments_lexer": "ipython3",
   "version": "3.6.9"
  }
 },
 "nbformat": 4,
 "nbformat_minor": 4
}
